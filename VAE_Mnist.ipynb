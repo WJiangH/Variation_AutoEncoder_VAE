{
 "cells": [
  {
   "cell_type": "markdown",
   "id": "f28b1cf3",
   "metadata": {
    "id": "f28b1cf3"
   },
   "source": [
    "# Variational Autoencoders\n",
    "\n",
    "The Variational Autoencoder (VAE) will be trained on the MNIST dataset and see how it is able to generate new images."
   ]
  },
  {
   "cell_type": "code",
   "execution_count": null,
   "id": "HBQ2U6Flxv27",
   "metadata": {
    "colab": {
     "base_uri": "https://localhost:8080/"
    },
    "id": "HBQ2U6Flxv27",
    "outputId": "33d9e3f1-581f-4206-cd75-081a6e090024"
   },
   "outputs": [],
   "source": [
    "# !apt install --allow-change-held-packages libcudnn8=8.4.1.50-1+cuda11.6"
   ]
  },
  {
   "cell_type": "code",
   "execution_count": 1,
   "id": "d80c4cf3",
   "metadata": {
    "id": "d80c4cf3"
   },
   "outputs": [],
   "source": [
    "import tensorflow as tf\n",
    "import tensorflow_datasets as tfds\n",
    "\n",
    "import matplotlib.pyplot as plt\n",
    "import matplotlib.patches as mpatches\n",
    "\n",
    "import numpy as np\n",
    "from IPython import display"
   ]
  },
  {
   "cell_type": "code",
   "execution_count": 2,
   "id": "64ddfe1a",
   "metadata": {
    "id": "64ddfe1a"
   },
   "outputs": [],
   "source": [
    "# Define global constants to be used in this notebook\n",
    "BATCH_SIZE=1000\n",
    "LATENT_DIM=2 # the dimension of the latent presentation of the input image, use \"2\" is easier to visualize"
   ]
  },
  {
   "cell_type": "markdown",
   "id": "8336c2e1",
   "metadata": {
    "id": "8336c2e1"
   },
   "source": [
    "# prepare the dataset"
   ]
  },
  {
   "cell_type": "code",
   "execution_count": 3,
   "id": "d966f796",
   "metadata": {
    "colab": {
     "base_uri": "https://localhost:8080/",
     "height": 103,
     "referenced_widgets": [
      "e58d6b42f99f40a8bd707dc6c694d24b",
      "b3be202e7d5e46ce99953dca80cfa357",
      "fa2005bfbd544722aeaa0c7ae8e67271",
      "366d2c231d954984936899e64e3f3e8d",
      "7bfa10a3b7514e99be7c40a632ca4458",
      "88e879cab16e4ccd8ab607e6460fbb69",
      "45bacc235cc747a298cc0464722175d5",
      "1f07bc07e498433ab3aa679c322d4239",
      "0993663f503e49beae5140d873ecdd2c",
      "71bf638ec8cc43109632cffe965c02e7",
      "b1f973d8ecb841ab9919d6c3e0f8afde"
     ]
    },
    "id": "d966f796",
    "outputId": "ea09262f-4218-44ea-cfd9-d27073de87a8"
   },
   "outputs": [
    {
     "name": "stdout",
     "output_type": "stream",
     "text": [
      "Metal device set to: Apple M2\n"
     ]
    },
    {
     "name": "stderr",
     "output_type": "stream",
     "text": [
      "2022-10-21 15:41:34.669119: I tensorflow/core/common_runtime/pluggable_device/pluggable_device_factory.cc:306] Could not identify NUMA node of platform GPU ID 0, defaulting to 0. Your kernel may not have been built with NUMA support.\n",
      "2022-10-21 15:41:34.669390: I tensorflow/core/common_runtime/pluggable_device/pluggable_device_factory.cc:272] Created TensorFlow device (/job:localhost/replica:0/task:0/device:GPU:0 with 0 MB memory) -> physical PluggableDevice (device: 0, name: METAL, pci bus id: <undefined>)\n"
     ]
    }
   ],
   "source": [
    "splits, info = tfds.load('mnist', as_supervised=True, split=['train', 'test'], with_info=True, data_dir='./mnist')"
   ]
  },
  {
   "cell_type": "code",
   "execution_count": 4,
   "id": "e9cc3951",
   "metadata": {
    "colab": {
     "base_uri": "https://localhost:8080/"
    },
    "id": "e9cc3951",
    "outputId": "4df52d78-4feb-4f3f-9059-f497bad39332"
   },
   "outputs": [
    {
     "name": "stdout",
     "output_type": "stream",
     "text": [
      "training examples:  60000\n",
      "test examples:  10000\n",
      "num_classes:  10\n",
      "image_size:  (28, 28, 1)\n"
     ]
    }
   ],
   "source": [
    "train_data, test_data = splits\n",
    "train_num_example = info.splits['train'].num_examples\n",
    "test_num_example = info.splits['test'].num_examples\n",
    "num_classes = info.features['label'].num_classes\n",
    "image_size = info.features['image'].shape\n",
    "\n",
    "print('training examples: ', train_num_example)\n",
    "print('test examples: ', test_num_example)\n",
    "print('num_classes: ', num_classes)\n",
    "print('image_size: ', image_size)"
   ]
  },
  {
   "cell_type": "code",
   "execution_count": 5,
   "id": "864c757f",
   "metadata": {
    "id": "864c757f"
   },
   "outputs": [],
   "source": [
    "def format_image(image, label):\n",
    "    image = tf.cast(image, tf.float32)\n",
    "    image = image / 255.\n",
    "    \n",
    "    return image, label"
   ]
  },
  {
   "cell_type": "code",
   "execution_count": 6,
   "id": "a62b4767",
   "metadata": {
    "id": "a62b4767"
   },
   "outputs": [],
   "source": [
    "train_dataset_batches = train_data.map(format_image).shuffle(1024).batch(BATCH_SIZE)\n",
    "test_dataset_batches = test_data.map(format_image).batch(BATCH_SIZE)"
   ]
  },
  {
   "cell_type": "markdown",
   "id": "44365e4c",
   "metadata": {
    "id": "44365e4c"
   },
   "source": [
    "## Build the Model\n",
    "\n",
    "The main architecture of the VAR is shown as:\n",
    "\n",
    "<img src=\"./imgs/vae_overview.png\" width=\"60%\" height=\"60%\"/>\n",
    "\n",
    "the VAE has an encoder-decoder architecture with the grey box in the middle which stands for the latent representation. In this layer, the model mixes a random sample and combines it with the outputs of the encoder. This mechanism makes it useful for generating new content."
   ]
  },
  {
   "cell_type": "markdown",
   "id": "9c68f684",
   "metadata": {
    "id": "9c68f684"
   },
   "source": [
    "## customize the sampling layer\n",
    "\n",
    "This will be a custom Keras layer that will provide the Gaussian noise input along with the mean (mu) and standard deviation (sigma) of the encoder's output. In practice, the output of this layer is given by the equation:\n",
    "\n",
    "$$z = \\mu + e^{0.5\\sigma} * \\epsilon  $$\n",
    "\n",
    "where $\\mu$ = mean, $\\sigma$ = standard deviation, and $\\epsilon$ = random sample"
   ]
  },
  {
   "cell_type": "code",
   "execution_count": 7,
   "id": "2fcf362e",
   "metadata": {
    "id": "2fcf362e"
   },
   "outputs": [],
   "source": [
    "# encoder model output (latent representation)\n",
    "class Sampling(tf.keras.layers.Layer):\n",
    "    def call(self, inputs):\n",
    "        mu, sigma = inputs\n",
    "        batch = tf.shape(mu)[0]\n",
    "        dim = tf.shape(mu)[1]\n",
    "        \n",
    "        epsilon = tf.keras.backend.random_normal(shape=(batch, dim))\n",
    "        return mu + tf.exp(0.5 * sigma) * epsilon"
   ]
  },
  {
   "cell_type": "markdown",
   "id": "794e2a18",
   "metadata": {
    "id": "794e2a18"
   },
   "source": [
    "### Encoder\n",
    "\n",
    "We will follow the architecture shown in class which looks like this. Note that aside from mu and sigma, we need to  also output the shape of features before flattening it. This will be useful when reconstructing the image later in the decoder.\n",
    "\n",
    "<img src=\"./imgs/vae_encoder.png\" width=\"60%\" height=\"60%\"/>"
   ]
  },
  {
   "cell_type": "code",
   "execution_count": 8,
   "id": "b68834df",
   "metadata": {
    "id": "b68834df"
   },
   "outputs": [],
   "source": [
    "def encoder_layers(inputs, latent_dim):\n",
    "    \n",
    "    x = tf.keras.layers.Conv2D(32, kernel_size=(3, 3), strides=2, padding='SAME', activation='relu')(inputs)\n",
    "    x = tf.keras.layers.BatchNormalization()(x)\n",
    "    x = tf.keras.layers.Conv2D(64, kernel_size=(3, 3), strides=2, padding='SAME', activation='relu')(x)\n",
    "    batch2 = tf.keras.layers.BatchNormalization()(x)\n",
    "    \n",
    "    x = tf.keras.layers.Flatten(name=\"encode_flatten\")(batch2)\n",
    "    x = tf.keras.layers.Dense(20, activation='relu', name=\"encode_dense\")(x)\n",
    "    x = tf.keras.layers.BatchNormalization()(x)\n",
    "    mu = tf.keras.layers.Dense(latent_dim, name='latent_mu')(x)\n",
    "    sigma = tf.keras.layers.Dense(latent_dim, name='latent_sigma')(x)\n",
    "    \n",
    "    return mu, sigma, batch2.shape\n",
    "\n",
    "def encoder_model(latent_dim, input_shape):\n",
    "    inputs = tf.keras.layers.Input(shape=input_shape)\n",
    "    \n",
    "    mu, sigma, batch_shape = encoder_layers(inputs, latent_dim)\n",
    "    z = Sampling()((mu, sigma))\n",
    "    model = tf.keras.Model(inputs=inputs, outputs=[mu, sigma, z])\n",
    "    \n",
    "    return model, batch_shape"
   ]
  },
  {
   "cell_type": "markdown",
   "id": "59be6f47",
   "metadata": {
    "id": "59be6f47"
   },
   "source": [
    "### Decoder\n",
    "\n",
    "Next, build the decoder part of the network which expands the latent representations back to the original image dimensions. As you'll see later in the training loop, we can feed random inputs to this model and it will generate content that resemble the training data."
   ]
  },
  {
   "cell_type": "code",
   "execution_count": 9,
   "id": "a9141793",
   "metadata": {
    "id": "a9141793"
   },
   "outputs": [],
   "source": [
    "def decoder_layers(inputs, conv_shape):\n",
    "    units = conv_shape[1] * conv_shape[2] * conv_shape[3]\n",
    "    x = tf.keras.layers.Dense(units, 'relu')(inputs)\n",
    "    x = tf.keras.layers.BatchNormalization()(x)\n",
    "    \n",
    "    x = tf.keras.layers.Reshape((conv_shape[1], conv_shape[2], conv_shape[3]), name=\"decode_reshape\")(x)\n",
    "    x = tf.keras.layers.Conv2DTranspose(64, kernel_size=(3, 3), strides=2, padding='SAME', activation='relu')(x)\n",
    "    x = tf.keras.layers.BatchNormalization()(x)\n",
    "    x = tf.keras.layers.Conv2DTranspose(filters=32, kernel_size=3, strides=2, padding='same', activation='relu')(x)\n",
    "    x = tf.keras.layers.BatchNormalization()(x)\n",
    "    \n",
    "    x = tf.keras.layers.Conv2DTranspose(filters=1, kernel_size=3, strides=1, \n",
    "                                        padding='same', activation='sigmoid', name=\"decode_final\")(x)\n",
    "\n",
    "    return x\n",
    "\n",
    "def decoder_model(latent_dim, conv_shape):\n",
    "    \n",
    "    inputs = tf.keras.layers.Input(shape=(latent_dim,))\n",
    "    outputs = decoder_layers(inputs, conv_shape)\n",
    "    model = tf.keras.Model(inputs, outputs)\n",
    "    \n",
    "    return model"
   ]
  },
  {
   "cell_type": "markdown",
   "id": "7f9253f9",
   "metadata": {
    "id": "7f9253f9"
   },
   "source": [
    "### Kullback–Leibler Divergence\n",
    "To improve the generative capability of the model, we have to take into account the random normal distribution introduced in the latent space. For that, the [Kullback–Leibler Divergence](https://arxiv.org/abs/2002.07514) is computed and added to the reconstruction loss. The formula is defined in the function below."
   ]
  },
  {
   "cell_type": "code",
   "execution_count": 10,
   "id": "7451f360",
   "metadata": {
    "id": "7451f360"
   },
   "outputs": [],
   "source": [
    "def kl_reconstruction_loss(inputs, outputs, mu, sigma):\n",
    "    \n",
    "    \n",
    "    \"\"\" Computes the Kullback-Leibler Divergence (KLD)\n",
    "    Args:\n",
    "      inputs -- batch from the dataset\n",
    "      outputs -- output of the Sampling layer\n",
    "      mu -- mean\n",
    "      sigma -- standard deviation\n",
    "    Returns:\n",
    "      KLD loss\n",
    "    \"\"\"\n",
    "    kl_loss = 1 + sigma - tf.square(mu) - tf.math.exp(sigma)\n",
    "    kl_loss = tf.reduce_mean(kl_loss) * -0.5\n",
    "    \n",
    "    return kl_loss"
   ]
  },
  {
   "cell_type": "markdown",
   "id": "554a8c62",
   "metadata": {
    "id": "554a8c62"
   },
   "source": [
    "### VAE Model\n",
    "\n",
    "Note the use of `model.add_loss()` to add the KL reconstruction loss. Computing this loss doesn't use `y_true` and `y_pred` so it can't be used in `model.compile()`. "
   ]
  },
  {
   "cell_type": "code",
   "execution_count": 11,
   "id": "0011d175",
   "metadata": {
    "id": "0011d175"
   },
   "outputs": [],
   "source": [
    "def vae_model(encoder, decoder, input_shape):\n",
    "    \n",
    "    inputs = tf.keras.layers.Input(input_shape)\n",
    "    mu, sigma, z = encoder(inputs)\n",
    "    reconstructed = decoder(z)\n",
    "    \n",
    "    model = tf.keras.Model(inputs=inputs, outputs=reconstructed)\n",
    "    \n",
    "    loss = kl_reconstruction_loss(inputs, z, mu, sigma)\n",
    "    model.add_loss(loss)\n",
    "    \n",
    "    return model"
   ]
  },
  {
   "cell_type": "code",
   "execution_count": 12,
   "id": "cfc3c971",
   "metadata": {
    "id": "cfc3c971"
   },
   "outputs": [],
   "source": [
    "def get_models(input_shape, latent_dim):\n",
    "    \n",
    "    encoder, conv_shape = encoder_model(latent_dim=latent_dim, input_shape=input_shape)\n",
    "    decoder = decoder_model(latent_dim=latent_dim, conv_shape=conv_shape)\n",
    "    vae = vae_model(encoder, decoder, input_shape=input_shape)\n",
    "    \n",
    "    return encoder, decoder, vae"
   ]
  },
  {
   "cell_type": "code",
   "execution_count": 13,
   "id": "bd9c61d9",
   "metadata": {
    "id": "bd9c61d9"
   },
   "outputs": [],
   "source": [
    "encoder, decoder, vae = get_models(input_shape=(28,28,1,), latent_dim=LATENT_DIM)"
   ]
  },
  {
   "cell_type": "markdown",
   "id": "26f588cf",
   "metadata": {
    "id": "26f588cf"
   },
   "source": [
    "## Train the Model"
   ]
  },
  {
   "cell_type": "code",
   "execution_count": 14,
   "id": "d2c436c2",
   "metadata": {
    "id": "d2c436c2"
   },
   "outputs": [],
   "source": [
    "# Define our loss functions and optimizers\n",
    "optimizer = tf.keras.optimizers.Adam()\n",
    "loss_metric = tf.keras.metrics.Mean()\n",
    "bce_loss = tf.keras.losses.BinaryCrossentropy()"
   ]
  },
  {
   "cell_type": "code",
   "execution_count": 15,
   "id": "c4f36815",
   "metadata": {
    "id": "c4f36815"
   },
   "outputs": [],
   "source": [
    "def generate_and_save_images(model, epoch, step, test_input):\n",
    "    \"\"\"Helper function to plot our 16 images\n",
    "  \n",
    "    Args:\n",
    "  \n",
    "    model -- the decoder model\n",
    "    epoch -- current epoch number during training\n",
    "    step -- current step number during training\n",
    "    test_input -- random tensor with shape (16, LATENT_DIM)\n",
    "    \"\"\"\n",
    "  \n",
    "    # generate images from the test input\n",
    "    predictions = model.predict(test_input)\n",
    "  \n",
    "    # plot the results\n",
    "    fig = plt.figure(figsize=(4,4))\n",
    "  \n",
    "    for i in range(predictions.shape[0]):\n",
    "        plt.subplot(4, 4, i+1)\n",
    "        plt.imshow(predictions[i, :, :, 0], cmap='gray')\n",
    "        plt.axis('off')\n",
    "  \n",
    "    # tight_layout minimizes the overlap between 2 sub-plots\n",
    "    fig.suptitle(\"epoch: {}, step: {}\".format(epoch, step))\n",
    "    plt.savefig('image_at_epoch_{:04d}_step{:04d}.png'.format(epoch, step))\n",
    "    plt.show()"
   ]
  },
  {
   "cell_type": "code",
   "execution_count": 17,
   "id": "4f4e772a",
   "metadata": {
    "colab": {
     "base_uri": "https://localhost:8080/",
     "height": 311
    },
    "id": "4f4e772a",
    "outputId": "6822a8bb-6e1b-4aae-a27b-ee02255a8594"
   },
   "outputs": [],
   "source": [
    "random_vector_for_generation = tf.random.normal(shape=[16, LATENT_DIM])\n",
    "epochs = 100\n",
    "\n",
    "generate_and_save_images(decoder, 0, 0, random_vector_for_generation)\n",
    "\n",
    "for epoch in range(epochs):\n",
    "    for step, (x_batch_train, _) in enumerate(train_dataset_batches):\n",
    "        \n",
    "        with tf.GradientTape() as tape:\n",
    "            reconstructed = vae(x_batch_train)\n",
    "            flattened_inputs = tf.reshape(x_batch_train, shape=[-1])\n",
    "            flattened_outputs = tf.reshape(reconstructed, shape=[-1])\n",
    "            \n",
    "            loss = bce_loss(flattened_inputs, flattened_outputs) * 784\n",
    "            loss += sum(vae.losses)\n",
    "        grads = tape.gradient(loss, vae.trainable_weights)\n",
    "        optimizer.apply_gradients(zip(grads, vae.trainable_weights))\n",
    "        \n",
    "        loss_metric(loss)\n",
    "        if step % 100 == 0:\n",
    "            display.clear_output(wait=False)    \n",
    "            generate_and_save_images(decoder, epoch, step, random_vector_for_generation)\n",
    "            print('Epoch: %s step: %s mean loss = %s' % (epoch, step, loss_metric.result().numpy()))"
   ]
  },
  {
   "cell_type": "code",
   "execution_count": 18,
   "id": "9a7b87c4",
   "metadata": {},
   "outputs": [],
   "source": [
    "# train the model using the above codes or load the pre-trained weights\n",
    "encoder.load_weights('./saved_weights/vae_mnist_encoder_weights.h5')\n",
    "decoder.load_weights('./saved_weights/vae_mnist_decoder_weights.h5')\n",
    "vae.load_weights('./saved_weights/vae_mnist_weights.h5')"
   ]
  },
  {
   "cell_type": "code",
   "execution_count": null,
   "id": "Z8iVCh9ZyF6_",
   "metadata": {
    "id": "Z8iVCh9ZyF6_"
   },
   "outputs": [],
   "source": [
    "# save weights\n",
    "# vae.save_weights('./vae_mnist_weights.h5')\n",
    "# encoder.save_weights('./vae_mnist_encoder_weights.h5')\n",
    "# decoder.save_weights('./vae_mnist_decoder_weights.h5')"
   ]
  },
  {
   "cell_type": "markdown",
   "id": "b4a4f1cc",
   "metadata": {},
   "source": [
    "### visualize the resconstruction image"
   ]
  },
  {
   "cell_type": "code",
   "execution_count": 37,
   "id": "d7d86911",
   "metadata": {},
   "outputs": [],
   "source": [
    "# visualize the resconstructu\n",
    "IMAGE_SIZE = 28\n",
    "def display_one_row(disp_images, offset, shape=(IMAGE_SIZE, IMAGE_SIZE)):\n",
    "    '''Displays a row of images.'''\n",
    "    for idx, image in enumerate(disp_images):\n",
    "        plt.subplot(2, 10, offset + idx + 1)\n",
    "        plt.xticks([])\n",
    "        plt.yticks([])\n",
    "        image = np.reshape(image, shape)\n",
    "        plt.imshow(image,cmap='binary')\n",
    "\n",
    "\n",
    "def display_results(disp_input_images, disp_predicted):\n",
    "    '''Displays input and predicted images.'''\n",
    "    plt.figure(figsize=(15, 5))\n",
    "    display_one_row(disp_input_images, 0, shape=(IMAGE_SIZE,IMAGE_SIZE,1))\n",
    "    display_one_row(disp_predicted, 10, shape=(IMAGE_SIZE,IMAGE_SIZE,1))"
   ]
  },
  {
   "cell_type": "code",
   "execution_count": 39,
   "id": "1ffd82f3",
   "metadata": {},
   "outputs": [
    {
     "name": "stdout",
     "output_type": "stream",
     "text": [
      "1/1 [==============================] - 0s 42ms/step\n"
     ]
    },
    {
     "name": "stderr",
     "output_type": "stream",
     "text": [
      "2022-10-21 15:51:18.627095: W tensorflow/core/kernels/data/cache_dataset_ops.cc:856] The calling iterator did not fully read the dataset being cached. In order to avoid unexpected truncation of the dataset, the partially cached contents of the dataset  will be discarded. This can happen if you have an input pipeline similar to `dataset.cache().take(k).repeat()`. You should use `dataset.take(k).cache().repeat()` instead.\n",
      "2022-10-21 15:51:18.821329: W tensorflow/core/kernels/data/cache_dataset_ops.cc:856] The calling iterator did not fully read the dataset being cached. In order to avoid unexpected truncation of the dataset, the partially cached contents of the dataset  will be discarded. This can happen if you have an input pipeline similar to `dataset.cache().take(k).repeat()`. You should use `dataset.take(k).cache().repeat()` instead.\n"
     ]
    },
    {
     "data": {
      "image/png": "[encoded data removed]",
      "text/plain": [
       "<Figure size 1500x500 with 20 Axes>"
      ]
     },
     "metadata": {},
     "output_type": "display_data"
    }
   ],
   "source": [
    "test_dataset = test_dataset_batches.take(1)\n",
    "output_samples = []\n",
    "\n",
    "for input_image, _ in tfds.as_numpy(test_dataset):\n",
    "      output_samples = input_image\n",
    "\n",
    "idxs = np.random.choice(64, size=10)\n",
    "\n",
    "vae_predicted = vae.predict(test_dataset)\n",
    "display_results(output_samples[idxs], vae_predicted[idxs])\n",
    "plt.savefig('./imgs/mnist_reconstructure.jpg')"
   ]
  },
  {
   "cell_type": "markdown",
   "id": "5fe9d52a",
   "metadata": {},
   "source": [
    "# visualize the 2d latent representation"
   ]
  },
  {
   "cell_type": "code",
   "execution_count": 40,
   "id": "c7d1d73d",
   "metadata": {},
   "outputs": [
    {
     "name": "stdout",
     "output_type": "stream",
     "text": [
      "32/32 [==============================] - 0s 2ms/step\n"
     ]
    },
    {
     "name": "stderr",
     "output_type": "stream",
     "text": [
      "2022-10-21 15:51:25.323194: W tensorflow/core/kernels/data/cache_dataset_ops.cc:856] The calling iterator did not fully read the dataset being cached. In order to avoid unexpected truncation of the dataset, the partially cached contents of the dataset  will be discarded. This can happen if you have an input pipeline similar to `dataset.cache().take(k).repeat()`. You should use `dataset.take(k).cache().repeat()` instead.\n"
     ]
    },
    {
     "data": {
      "image/png": "[encoded data removed]",
      "text/plain": [
       "<Figure size 600x600 with 1 Axes>"
      ]
     },
     "metadata": {},
     "output_type": "display_data"
    }
   ],
   "source": [
    "\n",
    "sample_dataset = next(iter(test_dataset_batches))\n",
    "X_train, labels = sample_dataset\n",
    "_, _, z = encoder.predict(X_train)\n",
    "\n",
    "z1, z2 = z.T[0], z.T[1]\n",
    "\n",
    "colors = plt.cm.rainbow(np.linspace(0, 1, 10))\n",
    "cs = [colors[y] for y in labels]\n",
    "classes = list(range(10))\n",
    "\n",
    "recs = []\n",
    "for i in range(0, len(cs)):\n",
    "    recs.append(mpatches.Rectangle((0, 0), 1, 1, fc=cs[i]))\n",
    "\n",
    "fig_dist = plt.figure(figsize=(6, 6))\n",
    "ax_dist = fig_dist.add_subplot(111)\n",
    "ax_dist.legend(recs, classes, loc=0)\n",
    "ax_dist.scatter(z1, z2, color=cs)\n",
    "plt.savefig('./imgs/mnist_reconstructed.jpg')"
   ]
  }
 ],
 "metadata": {
  "accelerator": "GPU",
  "colab": {
   "provenance": []
  },
  "kernelspec": {
   "display_name": "Python 3.9 (tensorflow)",
   "language": "python",
   "name": "tf"
  },
  "language_info": {
   "codemirror_mode": {
    "name": "ipython",
    "version": 3
   },
   "file_extension": ".py",
   "mimetype": "text/x-python",
   "name": "python",
   "nbconvert_exporter": "python",
   "pygments_lexer": "ipython3",
   "version": "3.9.13"
  },
  "widgets": {
   "application/vnd.jupyter.widget-state+json": {
    "0993663f503e49beae5140d873ecdd2c": {
     "model_module": "@jupyter-widgets/controls",
     "model_module_version": "1.5.0",
     "model_name": "ProgressStyleModel",
     "state": {
      "_model_module": "@jupyter-widgets/controls",
      "_model_module_version": "1.5.0",
      "_model_name": "ProgressStyleModel",
      "_view_count": null,
      "_view_module": "@jupyter-widgets/base",
      "_view_module_version": "1.2.0",
      "_view_name": "StyleView",
      "bar_color": null,
      "description_width": ""
     }
    },
    "1f07bc07e498433ab3aa679c322d4239": {
     "model_module": "@jupyter-widgets/base",
     "model_module_version": "1.2.0",
     "model_name": "LayoutModel",
     "state": {
      "_model_module": "@jupyter-widgets/base",
      "_model_module_version": "1.2.0",
      "_model_name": "LayoutModel",
      "_view_count": null,
      "_view_module": "@jupyter-widgets/base",
      "_view_module_version": "1.2.0",
      "_view_name": "LayoutView",
      "align_content": null,
      "align_items": null,
      "align_self": null,
      "border": null,
      "bottom": null,
      "display": null,
      "flex": null,
      "flex_flow": null,
      "grid_area": null,
      "grid_auto_columns": null,
      "grid_auto_flow": null,
      "grid_auto_rows": null,
      "grid_column": null,
      "grid_gap": null,
      "grid_row": null,
      "grid_template_areas": null,
      "grid_template_columns": null,
      "grid_template_rows": null,
      "height": null,
      "justify_content": null,
      "justify_items": null,
      "left": null,
      "margin": null,
      "max_height": null,
      "max_width": null,
      "min_height": null,
      "min_width": null,
      "object_fit": null,
      "object_position": null,
      "order": null,
      "overflow": null,
      "overflow_x": null,
      "overflow_y": null,
      "padding": null,
      "right": null,
      "top": null,
      "visibility": null,
      "width": null
     }
    },
    "366d2c231d954984936899e64e3f3e8d": {
     "model_module": "@jupyter-widgets/controls",
     "model_module_version": "1.5.0",
     "model_name": "HTMLModel",
     "state": {
      "_dom_classes": [],
      "_model_module": "@jupyter-widgets/controls",
      "_model_module_version": "1.5.0",
      "_model_name": "HTMLModel",
      "_view_count": null,
      "_view_module": "@jupyter-widgets/controls",
      "_view_module_version": "1.5.0",
      "_view_name": "HTMLView",
      "description": "",
      "description_tooltip": null,
      "layout": "IPY_MODEL_71bf638ec8cc43109632cffe965c02e7",
      "placeholder": "​",
      "style": "IPY_MODEL_b1f973d8ecb841ab9919d6c3e0f8afde",
      "value": " 4/4 [00:03&lt;00:00,  1.03 file/s]"
     }
    },
    "45bacc235cc747a298cc0464722175d5": {
     "model_module": "@jupyter-widgets/controls",
     "model_module_version": "1.5.0",
     "model_name": "DescriptionStyleModel",
     "state": {
      "_model_module": "@jupyter-widgets/controls",
      "_model_module_version": "1.5.0",
      "_model_name": "DescriptionStyleModel",
      "_view_count": null,
      "_view_module": "@jupyter-widgets/base",
      "_view_module_version": "1.2.0",
      "_view_name": "StyleView",
      "description_width": ""
     }
    },
    "71bf638ec8cc43109632cffe965c02e7": {
     "model_module": "@jupyter-widgets/base",
     "model_module_version": "1.2.0",
     "model_name": "LayoutModel",
     "state": {
      "_model_module": "@jupyter-widgets/base",
      "_model_module_version": "1.2.0",
      "_model_name": "LayoutModel",
      "_view_count": null,
      "_view_module": "@jupyter-widgets/base",
      "_view_module_version": "1.2.0",
      "_view_name": "LayoutView",
      "align_content": null,
      "align_items": null,
      "align_self": null,
      "border": null,
      "bottom": null,
      "display": null,
      "flex": null,
      "flex_flow": null,
      "grid_area": null,
      "grid_auto_columns": null,
      "grid_auto_flow": null,
      "grid_auto_rows": null,
      "grid_column": null,
      "grid_gap": null,
      "grid_row": null,
      "grid_template_areas": null,
      "grid_template_columns": null,
      "grid_template_rows": null,
      "height": null,
      "justify_content": null,
      "justify_items": null,
      "left": null,
      "margin": null,
      "max_height": null,
      "max_width": null,
      "min_height": null,
      "min_width": null,
      "object_fit": null,
      "object_position": null,
      "order": null,
      "overflow": null,
      "overflow_x": null,
      "overflow_y": null,
      "padding": null,
      "right": null,
      "top": null,
      "visibility": null,
      "width": null
     }
    },
    "7bfa10a3b7514e99be7c40a632ca4458": {
     "model_module": "@jupyter-widgets/base",
     "model_module_version": "1.2.0",
     "model_name": "LayoutModel",
     "state": {
      "_model_module": "@jupyter-widgets/base",
      "_model_module_version": "1.2.0",
      "_model_name": "LayoutModel",
      "_view_count": null,
      "_view_module": "@jupyter-widgets/base",
      "_view_module_version": "1.2.0",
      "_view_name": "LayoutView",
      "align_content": null,
      "align_items": null,
      "align_self": null,
      "border": null,
      "bottom": null,
      "display": null,
      "flex": null,
      "flex_flow": null,
      "grid_area": null,
      "grid_auto_columns": null,
      "grid_auto_flow": null,
      "grid_auto_rows": null,
      "grid_column": null,
      "grid_gap": null,
      "grid_row": null,
      "grid_template_areas": null,
      "grid_template_columns": null,
      "grid_template_rows": null,
      "height": null,
      "justify_content": null,
      "justify_items": null,
      "left": null,
      "margin": null,
      "max_height": null,
      "max_width": null,
      "min_height": null,
      "min_width": null,
      "object_fit": null,
      "object_position": null,
      "order": null,
      "overflow": null,
      "overflow_x": null,
      "overflow_y": null,
      "padding": null,
      "right": null,
      "top": null,
      "visibility": null,
      "width": null
     }
    },
    "88e879cab16e4ccd8ab607e6460fbb69": {
     "model_module": "@jupyter-widgets/base",
     "model_module_version": "1.2.0",
     "model_name": "LayoutModel",
     "state": {
      "_model_module": "@jupyter-widgets/base",
      "_model_module_version": "1.2.0",
      "_model_name": "LayoutModel",
      "_view_count": null,
      "_view_module": "@jupyter-widgets/base",
      "_view_module_version": "1.2.0",
      "_view_name": "LayoutView",
      "align_content": null,
      "align_items": null,
      "align_self": null,
      "border": null,
      "bottom": null,
      "display": null,
      "flex": null,
      "flex_flow": null,
      "grid_area": null,
      "grid_auto_columns": null,
      "grid_auto_flow": null,
      "grid_auto_rows": null,
      "grid_column": null,
      "grid_gap": null,
      "grid_row": null,
      "grid_template_areas": null,
      "grid_template_columns": null,
      "grid_template_rows": null,
      "height": null,
      "justify_content": null,
      "justify_items": null,
      "left": null,
      "margin": null,
      "max_height": null,
      "max_width": null,
      "min_height": null,
      "min_width": null,
      "object_fit": null,
      "object_position": null,
      "order": null,
      "overflow": null,
      "overflow_x": null,
      "overflow_y": null,
      "padding": null,
      "right": null,
      "top": null,
      "visibility": null,
      "width": null
     }
    },
    "b1f973d8ecb841ab9919d6c3e0f8afde": {
     "model_module": "@jupyter-widgets/controls",
     "model_module_version": "1.5.0",
     "model_name": "DescriptionStyleModel",
     "state": {
      "_model_module": "@jupyter-widgets/controls",
      "_model_module_version": "1.5.0",
      "_model_name": "DescriptionStyleModel",
      "_view_count": null,
      "_view_module": "@jupyter-widgets/base",
      "_view_module_version": "1.2.0",
      "_view_name": "StyleView",
      "description_width": ""
     }
    },
    "b3be202e7d5e46ce99953dca80cfa357": {
     "model_module": "@jupyter-widgets/controls",
     "model_module_version": "1.5.0",
     "model_name": "HTMLModel",
     "state": {
      "_dom_classes": [],
      "_model_module": "@jupyter-widgets/controls",
      "_model_module_version": "1.5.0",
      "_model_name": "HTMLModel",
      "_view_count": null,
      "_view_module": "@jupyter-widgets/controls",
      "_view_module_version": "1.5.0",
      "_view_name": "HTMLView",
      "description": "",
      "description_tooltip": null,
      "layout": "IPY_MODEL_88e879cab16e4ccd8ab607e6460fbb69",
      "placeholder": "​",
      "style": "IPY_MODEL_45bacc235cc747a298cc0464722175d5",
      "value": "Dl Completed...: 100%"
     }
    },
    "e58d6b42f99f40a8bd707dc6c694d24b": {
     "model_module": "@jupyter-widgets/controls",
     "model_module_version": "1.5.0",
     "model_name": "HBoxModel",
     "state": {
      "_dom_classes": [],
      "_model_module": "@jupyter-widgets/controls",
      "_model_module_version": "1.5.0",
      "_model_name": "HBoxModel",
      "_view_count": null,
      "_view_module": "@jupyter-widgets/controls",
      "_view_module_version": "1.5.0",
      "_view_name": "HBoxView",
      "box_style": "",
      "children": [
       "IPY_MODEL_b3be202e7d5e46ce99953dca80cfa357",
       "IPY_MODEL_fa2005bfbd544722aeaa0c7ae8e67271",
       "IPY_MODEL_366d2c231d954984936899e64e3f3e8d"
      ],
      "layout": "IPY_MODEL_7bfa10a3b7514e99be7c40a632ca4458"
     }
    },
    "fa2005bfbd544722aeaa0c7ae8e67271": {
     "model_module": "@jupyter-widgets/controls",
     "model_module_version": "1.5.0",
     "model_name": "FloatProgressModel",
     "state": {
      "_dom_classes": [],
      "_model_module": "@jupyter-widgets/controls",
      "_model_module_version": "1.5.0",
      "_model_name": "FloatProgressModel",
      "_view_count": null,
      "_view_module": "@jupyter-widgets/controls",
      "_view_module_version": "1.5.0",
      "_view_name": "ProgressView",
      "bar_style": "success",
      "description": "",
      "description_tooltip": null,
      "layout": "IPY_MODEL_1f07bc07e498433ab3aa679c322d4239",
      "max": 4,
      "min": 0,
      "orientation": "horizontal",
      "style": "IPY_MODEL_0993663f503e49beae5140d873ecdd2c",
      "value": 4
     }
    }
   }
  }
 },
 "nbformat": 4,
 "nbformat_minor": 5
}
